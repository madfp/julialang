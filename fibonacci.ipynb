{
 "cells": [
  {
   "cell_type": "code",
   "execution_count": null,
   "metadata": {},
   "outputs": [],
   "source": [
    "function fibonacci(n)  \n",
    "  return n <= 1 ? n : fibonacci(n-1) + fibonacci(n-2) \n",
    "end\n",
    "\n",
    "for iterator in 1:10\n",
    "  println(\"Posicion #\", iterator,  \" de la sucesion es: \",  fibonacci(iterator))\n",
    "end"
   ]
  }
 ],
 "metadata": {
  "kernelspec": {
   "display_name": "Julia 1.10.4",
   "language": "julia",
   "name": "julia-1.10"
  },
  "language_info": {
   "file_extension": ".jl",
   "mimetype": "application/julia",
   "name": "julia",
   "version": "1.10.4"
  }
 },
 "nbformat": 4,
 "nbformat_minor": 2
}
